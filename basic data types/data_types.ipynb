{
 "cells": [
  {
   "cell_type": "code",
   "execution_count": null,
   "metadata": {},
   "outputs": [],
   "source": [
    "# What is data type in Python and types?\n",
    "# data types are actually classes and variables are instance (object) of these classes\n",
    "'''\n",
    "Data types are the classification or categorization of data items. \n",
    "It represents the kind of value that tells what operations can be performed on a particular data.\n",
    "Everything in Python is an object.\n",
    "'''\n"
   ]
  },
  {
   "cell_type": "code",
   "execution_count": 1,
   "metadata": {},
   "outputs": [
    {
     "name": "stdout",
     "output_type": "stream",
     "text": [
      "33 <class 'int'>\n"
     ]
    }
   ],
   "source": [
    "val1 = 23\n",
    "val2 = 10\n",
    "val = val1.__add__(val2)\n",
    "print(val, type(val))"
   ]
  },
  {
   "cell_type": "code",
   "execution_count": 20,
   "metadata": {},
   "outputs": [
    {
     "name": "stdout",
     "output_type": "stream",
     "text": [
      "😘 <class 'str'>\n"
     ]
    }
   ],
   "source": [
    "st = \"Hello❤😙😘\"\n",
    "out = st[-1]\n",
    "print(out, type(out))"
   ]
  },
  {
   "cell_type": "code",
   "execution_count": 22,
   "metadata": {},
   "outputs": [
    {
     "name": "stdout",
     "output_type": "stream",
     "text": [
      "b'Hello \\xe2\\x9d\\xa4 World\\xf0\\x9f\\x98\\x98'\n"
     ]
    }
   ],
   "source": [
    "st = st = \"Hello ❤ World😘\"\n",
    "out = st.encode()\n",
    "print(out)"
   ]
  },
  {
   "cell_type": "code",
   "execution_count": 25,
   "metadata": {},
   "outputs": [
    {
     "name": "stdout",
     "output_type": "stream",
     "text": [
      "❤\n"
     ]
    }
   ],
   "source": [
    "sst3 = b'\\xe2\\x9d\\xa4'\n",
    "print(sst3.decode())"
   ]
  },
  {
   "cell_type": "code",
   "execution_count": 1,
   "metadata": {},
   "outputs": [],
   "source": [
    "from cobaya.run import run"
   ]
  },
  {
   "cell_type": "code",
   "execution_count": 2,
   "metadata": {},
   "outputs": [
    {
     "ename": "ValueError",
     "evalue": "Not a valid input file, or non-existent run to resume.",
     "output_type": "error",
     "traceback": [
      "\u001b[1;31m---------------------------------------------------------------------------\u001b[0m",
      "\u001b[1;31mFileNotFoundError\u001b[0m                         Traceback (most recent call last)",
      "File \u001b[1;32mc:\\Users\\drami\\AppData\\Local\\Programs\\Python\\Python310\\lib\\site-packages\\cobaya\\input.py:77\u001b[0m, in \u001b[0;36mload_input_file\u001b[1;34m(input_file, no_mpi, help_commands)\u001b[0m\n\u001b[0;32m     76\u001b[0m \u001b[39mtry\u001b[39;00m:\n\u001b[1;32m---> 77\u001b[0m     info \u001b[39m=\u001b[39m load_input_MPI(updated_file)\n\u001b[0;32m     78\u001b[0m \u001b[39mexcept\u001b[39;00m \u001b[39mIOError\u001b[39;00m:\n",
      "File \u001b[1;32mc:\\Users\\drami\\AppData\\Local\\Programs\\Python\\Python310\\lib\\site-packages\\cobaya\\mpi.py:249\u001b[0m, in \u001b[0;36mfrom_root.<locals>.wrapper\u001b[1;34m(*args, **kwargs)\u001b[0m\n\u001b[0;32m    248\u001b[0m \u001b[39mtry\u001b[39;00m:\n\u001b[1;32m--> 249\u001b[0m     result \u001b[39m=\u001b[39m func(\u001b[39m*\u001b[39margs, \u001b[39m*\u001b[39m\u001b[39m*\u001b[39mkwargs)\n\u001b[0;32m    250\u001b[0m \u001b[39mexcept\u001b[39;00m \u001b[39mException\u001b[39;00m:\n",
      "File \u001b[1;32mc:\\Users\\drami\\AppData\\Local\\Programs\\Python\\Python310\\lib\\site-packages\\cobaya\\input.py:125\u001b[0m, in \u001b[0;36mload_input_MPI\u001b[1;34m(input_file)\u001b[0m\n\u001b[0;32m    123\u001b[0m \u001b[39m@mpi\u001b[39m\u001b[39m.\u001b[39mfrom_root\n\u001b[0;32m    124\u001b[0m \u001b[39mdef\u001b[39;00m \u001b[39mload_input_MPI\u001b[39m(input_file) \u001b[39m-\u001b[39m\u001b[39m>\u001b[39m InputDict:\n\u001b[1;32m--> 125\u001b[0m     \u001b[39mreturn\u001b[39;00m load_input(input_file)\n",
      "File \u001b[1;32mc:\\Users\\drami\\AppData\\Local\\Programs\\Python\\Python310\\lib\\site-packages\\cobaya\\input.py:100\u001b[0m, in \u001b[0;36mload_input\u001b[1;34m(input_file)\u001b[0m\n\u001b[0;32m     99\u001b[0m \u001b[39mif\u001b[39;00m extension\u001b[39m.\u001b[39mlower() \u001b[39min\u001b[39;00m Extension\u001b[39m.\u001b[39myamls:\n\u001b[1;32m--> 100\u001b[0m     info \u001b[39m=\u001b[39m yaml_load_file(input_file) \u001b[39mor\u001b[39;00m {}  \u001b[39m# type: ignore\u001b[39;00m\n\u001b[0;32m    101\u001b[0m \u001b[39melif\u001b[39;00m extension \u001b[39m==\u001b[39m Extension\u001b[39m.\u001b[39mdill:\n",
      "File \u001b[1;32mc:\\Users\\drami\\AppData\\Local\\Programs\\Python\\Python310\\lib\\site-packages\\cobaya\\yaml.py:139\u001b[0m, in \u001b[0;36myaml_load_file\u001b[1;34m(file_name, yaml_text)\u001b[0m\n\u001b[0;32m    138\u001b[0m \u001b[39massert\u001b[39;00m file_name\n\u001b[1;32m--> 139\u001b[0m \u001b[39mwith\u001b[39;00m \u001b[39mopen\u001b[39;49m(file_name, \u001b[39m\"\u001b[39;49m\u001b[39mr\u001b[39;49m\u001b[39m\"\u001b[39;49m, encoding\u001b[39m=\u001b[39;49m\u001b[39m\"\u001b[39;49m\u001b[39mutf-8-sig\u001b[39;49m\u001b[39m\"\u001b[39;49m) \u001b[39mas\u001b[39;00m file:\n\u001b[0;32m    140\u001b[0m     yaml_text \u001b[39m=\u001b[39m \u001b[39m\"\u001b[39m\u001b[39m\"\u001b[39m\u001b[39m.\u001b[39mjoin(file\u001b[39m.\u001b[39mreadlines())\n",
      "\u001b[1;31mFileNotFoundError\u001b[0m: [Errno 2] No such file or directory: '.\\\\Amir khan.updated.yaml'",
      "\nDuring handling of the above exception, another exception occurred:\n",
      "\u001b[1;31mValueError\u001b[0m                                Traceback (most recent call last)",
      "\u001b[1;32mh:\\data science basics\\data-science-python\\basic data types\\data_types.ipynb Cell 7\u001b[0m in \u001b[0;36m<cell line: 2>\u001b[1;34m()\u001b[0m\n\u001b[0;32m      <a href='vscode-notebook-cell:/h%3A/data%20science%20basics/data-science-python/basic%20data%20types/data_types.ipynb#ch0000006?line=0'>1</a>\u001b[0m your_input \u001b[39m=\u001b[39m \u001b[39minput\u001b[39m(\u001b[39m\"\u001b[39m\u001b[39mEnter your name: \u001b[39m\u001b[39m\"\u001b[39m)\n\u001b[1;32m----> <a href='vscode-notebook-cell:/h%3A/data%20science%20basics/data-science-python/basic%20data%20types/data_types.ipynb#ch0000006?line=1'>2</a>\u001b[0m updated_info, sampler \u001b[39m=\u001b[39m run(your_input)\n",
      "File \u001b[1;32mc:\\Users\\drami\\AppData\\Local\\Programs\\Python\\Python310\\lib\\site-packages\\cobaya\\run.py:70\u001b[0m, in \u001b[0;36mrun\u001b[1;34m(info_or_yaml_or_file, packages_path, output, debug, stop_at_error, resume, force, minimize, no_mpi, test, override)\u001b[0m\n\u001b[0;32m     67\u001b[0m     mpi\u001b[39m.\u001b[39mset_mpi_disabled()\n\u001b[0;32m     69\u001b[0m \u001b[39mwith\u001b[39;00m mpi\u001b[39m.\u001b[39mProcessState(\u001b[39m\"\u001b[39m\u001b[39mrun\u001b[39m\u001b[39m\"\u001b[39m):\n\u001b[1;32m---> 70\u001b[0m     info: InputDict \u001b[39m=\u001b[39m load_info_overrides(info_or_yaml_or_file, debug, stop_at_error,\n\u001b[0;32m     71\u001b[0m                                           packages_path, override)\n\u001b[0;32m     73\u001b[0m     \u001b[39mif\u001b[39;00m test:\n\u001b[0;32m     74\u001b[0m         info[\u001b[39m\"\u001b[39m\u001b[39mtest\u001b[39m\u001b[39m\"\u001b[39m] \u001b[39m=\u001b[39m \u001b[39mTrue\u001b[39;00m\n",
      "File \u001b[1;32mc:\\Users\\drami\\AppData\\Local\\Programs\\Python\\Python310\\lib\\site-packages\\cobaya\\model.py:1359\u001b[0m, in \u001b[0;36mload_info_overrides\u001b[1;34m(info_or_yaml_or_file, debug, stop_at_error, packages_path, override)\u001b[0m\n\u001b[0;32m   1357\u001b[0m \u001b[39mdef\u001b[39;00m \u001b[39mload_info_overrides\u001b[39m(info_or_yaml_or_file, debug, stop_at_error,\n\u001b[0;32m   1358\u001b[0m                         packages_path, override\u001b[39m=\u001b[39m\u001b[39mNone\u001b[39;00m) \u001b[39m-\u001b[39m\u001b[39m>\u001b[39m InputDict:\n\u001b[1;32m-> 1359\u001b[0m     info \u001b[39m=\u001b[39m load_input_dict(info_or_yaml_or_file)  \u001b[39m# makes deep copy if dict\u001b[39;00m\n\u001b[0;32m   1361\u001b[0m     \u001b[39mif\u001b[39;00m override:\n\u001b[0;32m   1362\u001b[0m         \u001b[39mif\u001b[39;00m \u001b[39m\"\u001b[39m\u001b[39mpost\u001b[39m\u001b[39m\"\u001b[39m \u001b[39min\u001b[39;00m override:\n",
      "File \u001b[1;32mc:\\Users\\drami\\AppData\\Local\\Programs\\Python\\Python310\\lib\\site-packages\\cobaya\\input.py:45\u001b[0m, in \u001b[0;36mload_input_dict\u001b[1;34m(info_or_yaml_or_file)\u001b[0m\n\u001b[0;32m     43\u001b[0m         \u001b[39mreturn\u001b[39;00m yaml_load(info_or_yaml_or_file)  \u001b[39m# type: ignore\u001b[39;00m\n\u001b[0;32m     44\u001b[0m     \u001b[39melse\u001b[39;00m:\n\u001b[1;32m---> 45\u001b[0m         \u001b[39mreturn\u001b[39;00m load_input_file(info_or_yaml_or_file)\n\u001b[0;32m     46\u001b[0m \u001b[39melif\u001b[39;00m \u001b[39misinstance\u001b[39m(info_or_yaml_or_file, (\u001b[39mdict\u001b[39m, Mapping)):\n\u001b[0;32m     47\u001b[0m     \u001b[39mreturn\u001b[39;00m deepcopy_where_possible(info_or_yaml_or_file)\n",
      "File \u001b[1;32mc:\\Users\\drami\\AppData\\Local\\Programs\\Python\\Python310\\lib\\site-packages\\cobaya\\input.py:83\u001b[0m, in \u001b[0;36mload_input_file\u001b[1;34m(input_file, no_mpi, help_commands)\u001b[0m\n\u001b[0;32m     80\u001b[0m     \u001b[39mif\u001b[39;00m help_commands:\n\u001b[0;32m     81\u001b[0m         err_msg \u001b[39m+\u001b[39m\u001b[39m=\u001b[39m \\\n\u001b[0;32m     82\u001b[0m             \u001b[39mf\u001b[39m\u001b[39m\"\u001b[39m\u001b[39m Maybe you mistyped one of the following commands: \u001b[39m\u001b[39m{\u001b[39;00mhelp_commands\u001b[39m}\u001b[39;00m\u001b[39m\"\u001b[39m\n\u001b[1;32m---> 83\u001b[0m     \u001b[39mraise\u001b[39;00m \u001b[39mValueError\u001b[39;00m(err_msg)\n\u001b[0;32m     84\u001b[0m \u001b[39m# We need to update the output_prefix to resume the run *where it is*\u001b[39;00m\n\u001b[0;32m     85\u001b[0m info[\u001b[39m\"\u001b[39m\u001b[39moutput\u001b[39m\u001b[39m\"\u001b[39m] \u001b[39m=\u001b[39m input_file\n",
      "\u001b[1;31mValueError\u001b[0m: Not a valid input file, or non-existent run to resume."
     ]
    }
   ],
   "source": [
    "your_input = input(\"Enter your name: \")\n",
    "updated_info, sampler = run(your_input)"
   ]
  }
 ],
 "metadata": {
  "kernelspec": {
   "display_name": "Python 3.10.4 64-bit",
   "language": "python",
   "name": "python3"
  },
  "language_info": {
   "codemirror_mode": {
    "name": "ipython",
    "version": 3
   },
   "file_extension": ".py",
   "mimetype": "text/x-python",
   "name": "python",
   "nbconvert_exporter": "python",
   "pygments_lexer": "ipython3",
   "version": "3.10.4"
  },
  "orig_nbformat": 4,
  "vscode": {
   "interpreter": {
    "hash": "490f1c68ed42f2c5a574e22fb9e03ff49b98516de8582ff1c5d4fb43fb70f61b"
   }
  }
 },
 "nbformat": 4,
 "nbformat_minor": 2
}
