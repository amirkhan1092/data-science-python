{
 "cells": [
  {
   "cell_type": "code",
   "execution_count": 1,
   "metadata": {},
   "outputs": [],
   "source": [
    "from cobaya.run import run"
   ]
  },
  {
   "cell_type": "code",
   "execution_count": null,
   "metadata": {},
   "outputs": [],
   "source": []
  },
  {
   "cell_type": "code",
   "execution_count": 3,
   "metadata": {},
   "outputs": [
    {
     "name": "stdout",
     "output_type": "stream",
     "text": [
      "[mcmc] Getting initial point... (this may take a few seconds)\n",
      "[prior] Reference values or pdfs for some parameters were not provided. Sampling from the prior instead for those parameters.\n",
      "[model] Measuring speeds... (this may take a few seconds)\n",
      "[model] Setting measured speeds (per sec): {gaussian_mixture: 17100.0}\n",
      "[prior] *WARNING* Reference pdf not defined or improper for some parameters. Using prior's sigma instead for them.\n",
      "[mcmc] Covariance matrix not present. We will start learning the covariance of the proposal earlier: R-1 = 30 (would be 2 if all params loaded).\n",
      "[mcmc] Initial point: a:-0.01436583, b:0\n",
      "[mcmc] Sampling!\n",
      "[mcmc] Progress @ 2022-07-28 17:11:59 : 1 steps taken, and 0 accepted.\n",
      "[mcmc] Learn + convergence test @ 80 samples accepted.\n",
      "[mcmc]  - Acceptance rate: 0.161\n",
      "[mcmc]  - Convergence of means: R-1 = 0.191430 after 64 accepted steps\n",
      "[mcmc]  - Updated covariance matrix of proposal pdf.\n",
      "[mcmc] Learn + convergence test @ 160 samples accepted.\n",
      "[mcmc]  - Acceptance rate: 0.220\n",
      "[mcmc]  - Convergence of means: R-1 = 0.229544 after 128 accepted steps\n",
      "[mcmc]  - Updated covariance matrix of proposal pdf.\n",
      "[mcmc] Learn + convergence test @ 240 samples accepted.\n",
      "[mcmc]  - Acceptance rate: 0.241\n",
      "[mcmc]  - Convergence of means: R-1 = 0.065296 after 192 accepted steps\n",
      "[mcmc]  - Updated covariance matrix of proposal pdf.\n",
      "[mcmc] Learn + convergence test @ 320 samples accepted.\n",
      "[mcmc]  - Acceptance rate: 0.258\n",
      "[mcmc]  - Convergence of means: R-1 = 0.034926 after 256 accepted steps\n",
      "[mcmc]  - Updated covariance matrix of proposal pdf.\n",
      "[mcmc] Learn + convergence test @ 400 samples accepted.\n",
      "[mcmc]  - Acceptance rate: 0.277\n",
      "[mcmc]  - Convergence of means: R-1 = 0.064723 after 320 accepted steps\n",
      "[mcmc]  - Updated covariance matrix of proposal pdf.\n",
      "[mcmc] Learn + convergence test @ 480 samples accepted.\n",
      "[mcmc]  - Acceptance rate: 0.278\n",
      "[mcmc]  - Convergence of means: R-1 = 0.019594 after 384 accepted steps\n",
      "[mcmc]  - Updated covariance matrix of proposal pdf.\n",
      "[mcmc] Learn + convergence test @ 560 samples accepted.\n",
      "[mcmc]  - Acceptance rate: 0.283\n",
      "[mcmc]  - Convergence of means: R-1 = 0.010691 after 448 accepted steps\n",
      "[mcmc]  - Updated covariance matrix of proposal pdf.\n",
      "[mcmc] Learn + convergence test @ 640 samples accepted.\n",
      "[mcmc]  - Acceptance rate: 0.294\n",
      "[mcmc]  - Convergence of means: R-1 = 0.005659 after 512 accepted steps\n",
      "[mcmc]  - Updated covariance matrix of proposal pdf.\n",
      "[mcmc] Learn + convergence test @ 720 samples accepted.\n",
      "[mcmc]  - Acceptance rate: 0.292\n",
      "[mcmc]  - Convergence of means: R-1 = 0.051914 after 576 accepted steps\n",
      "[mcmc]  - Updated covariance matrix of proposal pdf.\n",
      "[mcmc] Learn + convergence test @ 800 samples accepted.\n",
      "[mcmc]  - Acceptance rate: 0.291\n",
      "[mcmc]  - Convergence of means: R-1 = 0.063264 after 640 accepted steps\n",
      "[mcmc]  - Updated covariance matrix of proposal pdf.\n",
      "[mcmc] Learn + convergence test @ 880 samples accepted.\n",
      "[mcmc]  - Acceptance rate: 0.296\n",
      "[mcmc]  - Convergence of means: R-1 = 0.029027 after 704 accepted steps\n",
      "[mcmc]  - Updated covariance matrix of proposal pdf.\n",
      "[mcmc] Learn + convergence test @ 960 samples accepted.\n",
      "[mcmc]  - Acceptance rate: 0.297\n",
      "[mcmc]  - Convergence of means: R-1 = 0.057721 after 768 accepted steps\n",
      "[mcmc]  - Updated covariance matrix of proposal pdf.\n",
      "[mcmc] Learn + convergence test @ 1040 samples accepted.\n",
      "[mcmc]  - Acceptance rate: 0.297\n",
      "[mcmc]  - Convergence of means: R-1 = 0.025388 after 832 accepted steps\n",
      "[mcmc]  - Updated covariance matrix of proposal pdf.\n",
      "[mcmc] Learn + convergence test @ 1120 samples accepted.\n",
      "[mcmc]  - Acceptance rate: 0.295\n",
      "[mcmc]  - Convergence of means: R-1 = 0.010626 after 896 accepted steps\n",
      "[mcmc]  - Updated covariance matrix of proposal pdf.\n",
      "[mcmc] Learn + convergence test @ 1200 samples accepted.\n",
      "[mcmc]  - Acceptance rate: 0.295\n",
      "[mcmc]  - Convergence of means: R-1 = 0.020740 after 960 accepted steps\n",
      "[mcmc]  - Updated covariance matrix of proposal pdf.\n",
      "[mcmc] Learn + convergence test @ 1280 samples accepted.\n",
      "[mcmc]  - Acceptance rate: 0.295\n",
      "[mcmc]  - Convergence of means: R-1 = 0.027280 after 1024 accepted steps\n",
      "[mcmc]  - Updated covariance matrix of proposal pdf.\n",
      "[mcmc] Learn + convergence test @ 1360 samples accepted.\n",
      "[mcmc]  - Acceptance rate: 0.296\n",
      "[mcmc]  - Convergence of means: R-1 = 0.026232 after 1088 accepted steps\n",
      "[mcmc]  - Updated covariance matrix of proposal pdf.\n",
      "[mcmc] Learn + convergence test @ 1440 samples accepted.\n",
      "[mcmc]  - Acceptance rate: 0.298\n",
      "[mcmc]  - Convergence of means: R-1 = 0.022565 after 1152 accepted steps\n",
      "[mcmc]  - Updated covariance matrix of proposal pdf.\n",
      "[mcmc] Learn + convergence test @ 1520 samples accepted.\n",
      "[mcmc]  - Acceptance rate: 0.302\n",
      "[mcmc]  - Convergence of means: R-1 = 0.018529 after 1216 accepted steps\n",
      "[mcmc]  - Updated covariance matrix of proposal pdf.\n",
      "[mcmc] Learn + convergence test @ 1600 samples accepted.\n",
      "[mcmc]  - Acceptance rate: 0.301\n",
      "[mcmc]  - Convergence of means: R-1 = 0.016202 after 1280 accepted steps\n",
      "[mcmc]  - Updated covariance matrix of proposal pdf.\n",
      "[mcmc] Learn + convergence test @ 1680 samples accepted.\n",
      "[mcmc]  - Acceptance rate: 0.300\n",
      "[mcmc]  - Convergence of means: R-1 = 0.007136 after 1344 accepted steps\n",
      "[mcmc]  - Updated covariance matrix of proposal pdf.\n",
      "[mcmc] Learn + convergence test @ 1760 samples accepted.\n",
      "[mcmc]  - Acceptance rate: 0.302\n",
      "[mcmc]  - Convergence of means: R-1 = 0.011568 after 1408 accepted steps\n",
      "[mcmc]  - Updated covariance matrix of proposal pdf.\n",
      "[mcmc] Learn + convergence test @ 1840 samples accepted.\n",
      "[mcmc]  - Acceptance rate: 0.303\n",
      "[mcmc]  - Convergence of means: R-1 = 0.010514 after 1472 accepted steps\n",
      "[mcmc]  - Updated covariance matrix of proposal pdf.\n",
      "[mcmc] Learn + convergence test @ 1920 samples accepted.\n",
      "[mcmc]  - Acceptance rate: 0.305\n",
      "[mcmc]  - Convergence of means: R-1 = 0.014977 after 1536 accepted steps\n",
      "[mcmc]  - Updated covariance matrix of proposal pdf.\n",
      "[mcmc] Learn + convergence test @ 2000 samples accepted.\n",
      "[mcmc]  - Acceptance rate: 0.306\n",
      "[mcmc]  - Convergence of means: R-1 = 0.010053 after 1600 accepted steps\n",
      "[mcmc]  - Updated covariance matrix of proposal pdf.\n",
      "[mcmc] Learn + convergence test @ 2080 samples accepted.\n",
      "[mcmc]  - Acceptance rate: 0.307\n",
      "[mcmc]  - Convergence of means: R-1 = 0.008122 after 1664 accepted steps\n",
      "[mcmc]  - Updated covariance matrix of proposal pdf.\n",
      "[mcmc] Learn + convergence test @ 2160 samples accepted.\n",
      "[mcmc]  - Acceptance rate: 0.306\n",
      "[mcmc]  - Convergence of means: R-1 = 0.007777 after 1728 accepted steps\n",
      "[mcmc]  - Convergence of bounds: R-1 = 0.116392 after 2160 accepted steps\n",
      "[mcmc] The run has converged!\n",
      "[mcmc] Sampling complete after 2160 accepted steps.\n",
      "InfoSamplerTuple(info={'sampler': {'mcmc': {'burn_in': 0, 'max_tries': '40d', 'covmat': None, 'covmat_params': None, 'proposal_scale': 2.4, 'output_every': '60s', 'learn_every': '40d', 'learn_proposal': True, 'learn_proposal_Rminus1_max': 2.0, 'learn_proposal_Rminus1_max_early': 30.0, 'learn_proposal_Rminus1_min': 0.0, 'max_samples': inf, 'Rminus1_stop': 0.01, 'Rminus1_cl_stop': 0.2, 'Rminus1_cl_level': 0.95, 'Rminus1_single_split': 4, 'measure_speeds': True, 'oversample_power': 0.4, 'oversample_thin': True, 'drag': False, 'blocking': [(1, ['a', 'b'])], 'callback_function': None, 'callback_every': None, 'seed': None, 'check_every': None, 'oversample': None, 'drag_limits': None, 'fallback_covmat_scale': 4, 'version': '3.2.1'}}, 'likelihood': {'gaussian_mixture': {'means': [0.2, 0], 'covs': [[0.1, 0.05], [0.05, 0.2]], 'weights': None, 'input_params_prefix': '', 'output_params_prefix': '', 'derived': True, 'delay': 0, 'type': [], 'speed': -1, 'stop_at_error': False, 'version': None, 'input_params': ['a', 'b'], 'output_params': ['derived_a', 'derived_b']}}, 'params': {'a': {'prior': {'min': -0.5, 'max': 3}, 'latex': '\\\\alpha'}, 'b': {'prior': {'dist': 'norm', 'loc': 0, 'scale': 1}, 'ref': 0, 'proposal': 0.5, 'latex': '\\\\beta'}, 'derived_a': {'latex': '\\\\alpha^\\\\prime', 'derived': True}, 'derived_b': {'latex': '\\\\beta^\\\\prime', 'derived': True}}, 'theory': None}, sampler=mcmc)\n"
     ]
    }
   ],
   "source": [
    "info = {\n",
    "    \"likelihood\": {\n",
    "        \"gaussian_mixture\": {\n",
    "            \"means\": [0.2, 0],\n",
    "            \"covs\": [[0.1, 0.05],\n",
    "                     [0.05, 0.2]],\n",
    "            \"derived\": True}},\n",
    "    \"params\": dict([\n",
    "        (\"a\", {\n",
    "            \"prior\": {\"min\": -0.5, \"max\": 3},\n",
    "            \"latex\": r\"\\alpha\"}),\n",
    "        (\"b\", {\n",
    "            \"prior\": {\"dist\": \"norm\", \"loc\": 0, \"scale\": 1},\n",
    "            \"ref\": 0,\n",
    "            \"proposal\": 0.5,\n",
    "            \"latex\": r\"\\beta\"}),\n",
    "        (\"derived_a\", {\n",
    "            \"latex\": r\"\\alpha^\\prime\"}),\n",
    "        (\"derived_b\", {\n",
    "            \"latex\": r\"\\beta^\\prime\"})]),\n",
    "    \"sampler\": {\n",
    "        \"mcmc\": None}}\n",
    "\n",
    "print(run(info))"
   ]
  },
  {
   "cell_type": "code",
   "execution_count": null,
   "metadata": {},
   "outputs": [],
   "source": [
    "class abc:\n",
    "    def __str__(self):\n",
    "        return \"abc\"\n",
    "    def __repr__(self):\n",
    "        return \"repr\"   \n",
    "    def __add__(self, other):\n",
    "        return self + str(other)    \n",
    "    pass"
   ]
  },
  {
   "cell_type": "code",
   "execution_count": 3,
   "metadata": {},
   "outputs": [],
   "source": [
    "a = abc()\n",
    "a.count = 23\n"
   ]
  },
  {
   "cell_type": "code",
   "execution_count": null,
   "metadata": {},
   "outputs": [
    {
     "ename": "",
     "evalue": "",
     "output_type": "error",
     "traceback": [
      "\u001b[1;31mCanceled future for execute_request message before replies were done"
     ]
    },
    {
     "ename": "",
     "evalue": "",
     "output_type": "error",
     "traceback": [
      "\u001b[1;31mThe Kernel crashed while executing code in the the current cell or a previous cell. Please review the code in the cell(s) to identify a possible cause of the failure. Click <a href='https://aka.ms/vscodeJupyterKernelCrash'>here</a> for more info. View Jupyter <a href='command:jupyter.viewOutput'>log</a> for further details."
     ]
    }
   ],
   "source": []
  }
 ],
 "metadata": {
  "kernelspec": {
   "display_name": "Python 3.10.4 64-bit",
   "language": "python",
   "name": "python3"
  },
  "language_info": {
   "codemirror_mode": {
    "name": "ipython",
    "version": 3
   },
   "file_extension": ".py",
   "mimetype": "text/x-python",
   "name": "python",
   "nbconvert_exporter": "python",
   "pygments_lexer": "ipython3",
   "version": "3.10.4"
  },
  "orig_nbformat": 4,
  "vscode": {
   "interpreter": {
    "hash": "490f1c68ed42f2c5a574e22fb9e03ff49b98516de8582ff1c5d4fb43fb70f61b"
   }
  }
 },
 "nbformat": 4,
 "nbformat_minor": 2
}
